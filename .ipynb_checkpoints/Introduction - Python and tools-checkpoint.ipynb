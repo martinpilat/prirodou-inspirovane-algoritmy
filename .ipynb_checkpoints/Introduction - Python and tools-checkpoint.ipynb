{
 "cells": [
  {
   "cell_type": "markdown",
   "metadata": {},
   "source": [
    "# Základy Pythonu\n",
    "\n",
    "Ve cvičení budeme používat jazyk Python. Jde o moderní vysokoúrovňový jazyk, který je velmi populární v oblasti strojového učení, data science a evolučních algoritmů. Za svou popularitu vděčí pravděpodobně hlavně tomu, že je velmi jednoduchý. Na druhou stranu čistý Python je často dost pomalý, to ale nevadí - prakticky se používá hlavně jako jazyk, který propojuje vysokoúrovňové knihovny napsané v C/C++ a podobných kompilovaných jazycích. \n",
    "\n",
    "Dnes se podíváme na základy Pythonu a na některé knihovny, které budeme později používat. \n",
    "\n",
    "Celý návrh jazyka Python je založený na jednoduchosti. Jazyk používá tzv. 2D syntaxi, záleží tedy na odsazení jednotlivých částí kódu a nepoužívají se závorky. Proměnné v Pythonu jsou jména objektů a není třeba definovat jejich typ. Můžeme používat běžné konstrukce známé z jiných programovacích jazyků. Níže můžete vidět krátký příklad programu v Pythonu, který projde všechna čísla od 0 do 10 a vypíše ta sudá z nich."
   ]
  },
  {
   "cell_type": "code",
   "execution_count": 2,
   "metadata": {},
   "outputs": [
    {
     "name": "stdout",
     "output_type": "stream",
     "text": [
      "0\n",
      "2\n",
      "4\n",
      "6\n",
      "8\n",
      "10\n"
     ]
    }
   ],
   "source": [
    "for i in range(11):\n",
    "    if i % 2 == 0:\n",
    "        print(i)"
   ]
  },
  {
   "cell_type": "markdown",
   "metadata": {},
   "source": [
    "`for` cyklus v Pythonu je vždy \"for each\" funkce `range(n)` je tzv. generátor a vrací postupně čísla od `0` do `n-1`. Všimněte si, že na konci řádky je dvojtečka samotné tělo cyklu je odsazené.\n",
    "\n",
    "Základní datové typy v Pythonu jsou `str`, `list`, `tuple` a `dict`: `str` reprezentuje stringy, píší se do uvozovek nebo apostrofů; `list` reprezentuje seznamy hodnot libovolných typů, `tuple` reprezentuje n-tice (rozdíl mezi seznamem a tuplem je, že tuple je immutable) a `dict` reprezentuje slovníky (hašovací tabulky). Podívejme se na několik příkladů jednotlivých typů."
   ]
  },
  {
   "cell_type": "code",
   "execution_count": 23,
   "metadata": {},
   "outputs": [
    {
     "name": "stdout",
     "output_type": "stream",
     "text": [
      "Hello, world!\n",
      "[1, 2, 3, 4, 5, 6]\n",
      "(1, 2, 3, 4, 5, 6)\n",
      "{'Hello': 'world'}\n"
     ]
    }
   ],
   "source": [
    "print('Hello, world!') # vypiseme string Hello, world!\n",
    "print([1,2,3,4,5,6]) # seznam cisel 1 az 6\n",
    "print((1,2,3,4,5,6)) # tuple cisel 1 az 6\n",
    "print({'Hello': 'world'}) # slovnik, ktery mapuje \"hello\" na \"world\""
   ]
  },
  {
   "cell_type": "markdown",
   "metadata": {},
   "source": [
    "Indexování do seznamu se dělá jako obvykle, tj. pomocí hranatých závorek. Počítá se od 0. Kromě toho lze indexovat v tzv. slice, kde se zadá začátek, konec, a délka kroku. Záporné indexy počítají od konce. Víz příklady:"
   ]
  },
  {
   "cell_type": "code",
   "execution_count": 37,
   "metadata": {},
   "outputs": [
    {
     "name": "stdout",
     "output_type": "stream",
     "text": [
      "s: [0, 1, 2, 3, 4, 5, 6, 7, 8, 9, 10, 11, 12, 13, 14, 15, 16, 17, 18, 19]\n",
      "s[10]: 10\n",
      "s[-1]: 19\n",
      "s[5:15]: [5, 6, 7, 8, 9, 10, 11, 12, 13, 14]\n",
      "s[5:15:2] [5, 7, 9, 11, 13]\n",
      "s[-5:] [15, 16, 17, 18, 19]\n",
      "s[::-1] [19, 18, 17, 16, 15, 14, 13, 12, 11, 10, 9, 8, 7, 6, 5, 4, 3, 2, 1, 0]\n"
     ]
    }
   ],
   "source": [
    "s = list(range(20))\n",
    "print('s:', s)\n",
    "print('s[10]:', s[10])\n",
    "print('s[-1]:', s[-1])\n",
    "print('s[5:15]:', s[5:15]) # slice, krok = 1\n",
    "print('s[5:15:2]', s[5:15:2]) # slice, krok = 2\n",
    "print('s[-5:]', s[-5:]) # slice, poslednich 5\n",
    "print('s[::-1]', s[::-1]) # slice, od zacatku do konce krok = -1 -> pozpatku"
   ]
  },
  {
   "cell_type": "markdown",
   "metadata": {},
   "source": [
    "Python má velmi užitečnou vlastnost pro práci se seznamy, tzv. list comprehensions. Pomocí nich se dají snadno seznamy definovat podobně jako v matematice množiny. Například seznam dvojnásobků všech sudých čísel mezi 1 a 10 se dá napsat jako:"
   ]
  },
  {
   "cell_type": "code",
   "execution_count": 10,
   "metadata": {},
   "outputs": [
    {
     "data": {
      "text/plain": [
       "[4, 8, 12, 16, 20]"
      ]
     },
     "execution_count": 10,
     "metadata": {},
     "output_type": "execute_result"
    }
   ],
   "source": [
    "[2*x for x in range(1,11) if x % 2 == 0]"
   ]
  },
  {
   "cell_type": "markdown",
   "metadata": {},
   "source": [
    "Podobným způsobem existují i tzv. dictionary comprehensions. Pomocí těch lze definovat slovníky. Např. slovník mapující slova \"Hello\" a \"world\" na jejich délku se dá definovat jako:"
   ]
  },
  {
   "cell_type": "code",
   "execution_count": 12,
   "metadata": {},
   "outputs": [
    {
     "data": {
      "text/plain": [
       "{'Hello': 5, 'world': 5}"
      ]
     },
     "execution_count": 12,
     "metadata": {},
     "output_type": "execute_result"
    }
   ],
   "source": [
    "{w: len(w) for w in [\"Hello\", \"world\"]}"
   ]
  },
  {
   "cell_type": "markdown",
   "metadata": {},
   "source": [
    "Funkce se v Pythonu definují pomocí klíčového slova `def`. Příklad funkce, které vrátí seznam sudých čísel od `n` do `m` je níže:"
   ]
  },
  {
   "cell_type": "code",
   "execution_count": 15,
   "metadata": {},
   "outputs": [
    {
     "name": "stdout",
     "output_type": "stream",
     "text": [
      "[10, 12, 14, 16, 18]\n"
     ]
    }
   ],
   "source": [
    "def suda(n, m):\n",
    "    return [x for x in range(n,m) if x % 2 == 0]\n",
    "\n",
    "print(suda(10, 20))"
   ]
  },
  {
   "cell_type": "markdown",
   "metadata": {},
   "source": [
    "Velmi užitečnou vlastností Pythonu je automatické rozbalování tuplů, často se používá v případě, kdy chceme, aby funkce vracela více hodnot najednou, dá se ale použít i bez funkce. Velmi často můžeme například vidět následující kód, který počítá minimum a maximum hodnot ze seznamu."
   ]
  },
  {
   "cell_type": "code",
   "execution_count": 18,
   "metadata": {},
   "outputs": [
    {
     "name": "stdout",
     "output_type": "stream",
     "text": [
      "2 32\n"
     ]
    }
   ],
   "source": [
    "s = [5,4,32,5,6,7,6,4,3,2,2,3,4]\n",
    "min_s, max_s = min(s), max(s)\n",
    "\n",
    "print(min_s, max_s)"
   ]
  },
  {
   "cell_type": "markdown",
   "metadata": {},
   "source": [
    "V Pythonu jde používat i třídy, jejich definice se nejsnáze ukazuje na příkladu. Níže je třeba třída, které implementuje počítání - má metodu `count`, která při zavolání příčte 1 do proměnné `n`. V konstruktoru můžeme nastavit počáteční hodnotu `n`. Python nezná omezení přístupu jako `public`, `private`, `protected` apod. Místo toho se používá konvence, že názvy začínající na `_` jsou interní. "
   ]
  },
  {
   "cell_type": "code",
   "execution_count": 20,
   "metadata": {},
   "outputs": [
    {
     "name": "stdout",
     "output_type": "stream",
     "text": [
      "12\n"
     ]
    }
   ],
   "source": [
    "class Counter:\n",
    "    \n",
    "    # konstruktor se jmenuje __init__, jako vsechny metody, \n",
    "    # ma jako prvni parametr self, kterym se odkazuje na ostatni \n",
    "    # promenne v tride\n",
    "    def __init__(self, n):\n",
    "        self.n = n\n",
    "        \n",
    "    def count(self):\n",
    "        self.n += 1\n",
    "        \n",
    "cnt = Counter(10)\n",
    "cnt.count()\n",
    "cnt.count()\n",
    "\n",
    "print(cnt.n)"
   ]
  }
 ],
 "metadata": {
  "kernelspec": {
   "display_name": "Python 3",
   "language": "python",
   "name": "python3"
  },
  "language_info": {
   "codemirror_mode": {
    "name": "ipython",
    "version": 3
   },
   "file_extension": ".py",
   "mimetype": "text/x-python",
   "name": "python",
   "nbconvert_exporter": "python",
   "pygments_lexer": "ipython3",
   "version": "3.7.2"
  }
 },
 "nbformat": 4,
 "nbformat_minor": 2
}
