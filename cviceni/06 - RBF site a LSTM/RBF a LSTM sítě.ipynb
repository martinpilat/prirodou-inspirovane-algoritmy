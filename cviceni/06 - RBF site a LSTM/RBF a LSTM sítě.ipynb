{
 "cells": [
  {
   "cell_type": "markdown",
   "metadata": {},
   "source": [
    "Na přednášce jsme si povídali o RBF sítích a LSTM sítích, teď si je zkusíme naprogramovat. Na RBF sítích si ukážeme,  jak se vytváří vlastní vrstva v tensorflow. \n",
    "\n",
    "# RBF sítě\n",
    "\n",
    "Implementace vlastní vrstvy v tensorflow je jednoduchá, stačí implementovat třídu, která má metody build, která inicializuje parametry podle velikosti vstupu a call, která implementuje vlastní výpočet."
   ]
  },
  {
   "cell_type": "code",
   "execution_count": 48,
   "metadata": {},
   "outputs": [],
   "source": [
    "import tensorflow as tf\n",
    "\n",
    "class RBFLayer(tf.keras.layers.Layer):\n",
    "    def __init__(self, num_outputs):\n",
    "        super(RBFLayer, self).__init__()\n",
    "        self.num_outputs = num_outputs\n",
    "    \n",
    "    def build(self, input_shape):\n",
    "        self.centers = self.add_variable(\"centers\", shape=(self.num_outputs, int(input_shape[-1])))\n",
    "        self.beta = self.add_variable(\"beta\", shape=(self.num_outputs,))\n",
    "    \n",
    "    def compute_output_shape(self, input_shape):\n",
    "        return input_shape[0], self.num_outputs\n",
    "    \n",
    "    def call(self, x):\n",
    "        C = tf.expand_dims(self.centers, -1)\n",
    "        H = tf.transpose(C - tf.transpose(x))\n",
    "        return tf.math.exp(-self.beta * tf.reduce_sum(tf.pow(H,2), axis=1))                               "
   ]
  },
  {
   "cell_type": "code",
   "execution_count": 52,
   "metadata": {},
   "outputs": [
    {
     "data": {
      "text/plain": [
       "0.3333333333333333"
      ]
     },
     "execution_count": 52,
     "metadata": {},
     "output_type": "execute_result"
    }
   ],
   "source": [
    "from sklearn import datasets\n",
    "import numpy as np\n",
    "\n",
    "iris = datasets.load_iris()\n",
    "x, y = iris.data, iris.target\n",
    "\n",
    "model = tf.keras.Sequential([\n",
    "    RBFLayer(10),\n",
    "    tf.keras.layers.Dense(3, activation=tf.nn.softmax)\n",
    "]\n",
    ")\n",
    "\n",
    "model.compile(optimizer='adam', loss='sparse_categorical_crossentropy', metrics=['acc'])\n",
    "\n",
    "model.fit(x, y, epochs=1000, verbose=False)\n",
    "np.mean(np.argmax(model.predict(x), axis=1)==y)"
   ]
  },
  {
   "cell_type": "markdown",
   "metadata": {},
   "source": [
    "## Cvičení\n",
    "\n",
    "Vidíme, že naše implementace nefunguje moc dobře, na přednášce jsme si říkali, že se středy vstupních neuronů inicializují pomocí algoritmu $k$-means. Zkuste naši implementaci upravit tak, aby to brala v úvahu. (Hint: metoda add_variable má parametr initializer.)\n",
    "\n",
    "# LSTM sítě\n",
    "\n",
    "LSTM sítě se používají pro zpracování textu a časových řad, ukážeme si tedy, jak pomocí nich generovat text. Jako trénovací množinu použijeme texty Nietzscheho."
   ]
  },
  {
   "cell_type": "code",
   "execution_count": null,
   "metadata": {},
   "outputs": [],
   "source": [
    "import numpy as np\n",
    "import random\n",
    "import sys\n",
    "\n",
    "'''\n",
    "    Example script to generate text from Nietzsche's writings.\n",
    "    At least 20 epochs are required before the generated text\n",
    "    starts sounding coherent.\n",
    "    It is recommended to run this script on GPU, as recurrent\n",
    "    networks are quite computationally intensive.\n",
    "    If you try this script on new data, make sure your corpus\n",
    "    has at least ~100k characters. ~1M is better.\n",
    "'''\n",
    "\n",
    "path = tf.keras.utils.get_file('nietzsche.txt', origin=\"https://s3.amazonaws.com/text-datasets/nietzsche.txt\")\n",
    "text = open(path).read().lower()\n",
    "print('corpus length:', len(text))\n",
    "\n",
    "chars = set(text)\n",
    "print('total chars:', len(chars))\n",
    "char_indices = dict((c, i) for i, c in enumerate(chars))\n",
    "indices_char = dict((i, c) for i, c in enumerate(chars))\n",
    "\n",
    "# cut the text in semi-redundant sequences of maxlen characters\n",
    "maxlen = 20\n",
    "step = 3\n",
    "sentences = []\n",
    "next_chars = []\n",
    "for i in range(0, len(text) - maxlen, step):\n",
    "    sentences.append(text[i: i + maxlen])\n",
    "    next_chars.append(text[i + maxlen])\n",
    "print('nb sequences:', len(sentences))\n",
    "\n",
    "print('Vectorization...')\n",
    "X = np.zeros((len(sentences), maxlen, len(chars)), dtype=np.bool)\n",
    "y = np.zeros((len(sentences), len(chars)), dtype=np.bool)\n",
    "for i, sentence in enumerate(sentences):\n",
    "    for t, char in enumerate(sentence):\n",
    "        X[i, t, char_indices[char]] = 1\n",
    "    y[i, char_indices[next_chars[i]]] = 1\n",
    "    \n",
    "print('Build model...')\n",
    "model = tf.keras.Sequential()\n",
    "model.add(tf.keras.layers.LSTM(512, return_sequences=True, input_shape=(maxlen, len(chars))))\n",
    "model.add(tf.keras.layers.Dropout(0.2))\n",
    "model.add(tf.keras.layers.LSTM(512, return_sequences=False))\n",
    "model.add(tf.keras.layers.Dropout(0.2))\n",
    "model.add(tf.keras.layers.Dense(len(chars), activation=tf.nn.softmax))\n",
    "\n",
    "model.compile(loss='categorical_crossentropy', optimizer='rmsprop')\n",
    "\n",
    "\n",
    "def sample(a, temperature=1.0):\n",
    "    # helper function to sample an index from a probability array\n",
    "    a = np.log(a) / temperature\n",
    "    a = np.exp(a) / np.sum(np.exp(a))\n",
    "    a = a/np.sum(a)\n",
    "    return np.argmax(np.random.multinomial(1, a, 1))\n",
    "\n",
    "# train the model, output generated text after each iteration\n",
    "for iteration in range(1, 60):\n",
    "    print()\n",
    "    print('-' * 50)\n",
    "    print('Iteration', iteration)\n",
    "    model.fit(X, y, batch_size=128, nb_epoch=1)\n",
    "\n",
    "    start_index = random.randint(0, len(text) - maxlen - 1)\n",
    "\n",
    "    for diversity in [0.2, 0.5, 1.0, 1.2]:\n",
    "        print()\n",
    "        print('----- diversity:', diversity)\n",
    "\n",
    "        generated = ''\n",
    "        sentence = text[start_index: start_index + maxlen]\n",
    "        generated += sentence\n",
    "        print('----- Generating with seed: \"' + sentence + '\"')\n",
    "        sys.stdout.write(generated)\n",
    "\n",
    "        for _ in range(400):\n",
    "            x = np.zeros((1, maxlen, len(chars)))\n",
    "            for t, char in enumerate(sentence):\n",
    "                x[0, t, char_indices[char]] = 1.\n",
    "\n",
    "            preds = model.predict(x, verbose=0)[0]\n",
    "            next_index = sample(preds, diversity)\n",
    "            next_char = indices_char[next_index]\n",
    "\n",
    "            generated += next_char\n",
    "            sentence = sentence[1:] + next_char\n",
    "\n",
    "            sys.stdout.write(next_char)\n",
    "            sys.stdout.flush()\n",
    "        print()\n"
   ]
  },
  {
   "cell_type": "markdown",
   "metadata": {},
   "source": [
    "Spuštění buňky nahoře na počítačí bez GPU by trvalo několik hodin, spíše i dnů. Spustil jsem ji teda na platformě Google Colab, a na výsledky se [můžete podívat](https://colab.research.google.com/drive/1B7zys275xmpPqahPwNvuYMPLmgvlV3l5)."
   ]
  }
 ],
 "metadata": {
  "kernelspec": {
   "display_name": "Python 3",
   "language": "python",
   "name": "python3"
  },
  "language_info": {
   "codemirror_mode": {
    "name": "ipython",
    "version": 3
   },
   "file_extension": ".py",
   "mimetype": "text/x-python",
   "name": "python",
   "nbconvert_exporter": "python",
   "pygments_lexer": "ipython3",
   "version": "3.6.5"
  }
 },
 "nbformat": 4,
 "nbformat_minor": 2
}
