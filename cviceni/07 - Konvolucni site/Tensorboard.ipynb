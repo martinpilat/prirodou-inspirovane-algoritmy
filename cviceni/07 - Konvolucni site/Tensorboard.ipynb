{
 "cells": [
  {
   "cell_type": "markdown",
   "metadata": {},
   "source": [
    "## Tensorboard\n",
    "\n",
    "Tensorboard je velmi užitečný nástroj pro pochopení, sledování a logování jakýchkoliv výpočtů v tensorflow. Tensorflow umí logovat hodnoty všeho, co se v něm počítá a tensorboard potom slouží k jejich zobrazení. Pokud chceme tensorboard použít, musíme definovat tzv. summaries, které právě obsahují logy. Potom už stačí jen tensorboard spustit (funguje v prohlížeči)."
   ]
  },
  {
   "cell_type": "code",
   "execution_count": 1,
   "metadata": {},
   "outputs": [
    {
     "name": "stdout",
     "output_type": "stream",
     "text": [
      "WARNING:tensorflow:From C:\\Users\\marti\\Anaconda3\\envs\\pia\\lib\\site-packages\\tensorflow\\python\\ops\\resource_variable_ops.py:435: colocate_with (from tensorflow.python.framework.ops) is deprecated and will be removed in a future version.\n",
      "Instructions for updating:\n",
      "Colocations handled automatically by placer.\n",
      "Train on 60000 samples, validate on 10000 samples\n",
      "Epoch 1/10\n",
      "60000/60000 [==============================] - 63s 1ms/sample - loss: 0.4487 - acc: 0.8755 - val_loss: 0.1257 - val_acc: 0.9642\n",
      "Epoch 2/10\n",
      "60000/60000 [==============================] - 64s 1ms/sample - loss: 0.1204 - acc: 0.9639 - val_loss: 0.0921 - val_acc: 0.9718\n",
      "Epoch 3/10\n",
      "60000/60000 [==============================] - 65s 1ms/sample - loss: 0.0870 - acc: 0.9740 - val_loss: 0.0642 - val_acc: 0.9799\n",
      "Epoch 4/10\n",
      "60000/60000 [==============================] - 67s 1ms/sample - loss: 0.0702 - acc: 0.9784 - val_loss: 0.0552 - val_acc: 0.9825\n",
      "Epoch 5/10\n",
      "60000/60000 [==============================] - 63s 1ms/sample - loss: 0.0607 - acc: 0.9814 - val_loss: 0.0517 - val_acc: 0.9843\n",
      "Epoch 6/10\n",
      "60000/60000 [==============================] - 68s 1ms/sample - loss: 0.0527 - acc: 0.9840 - val_loss: 0.0468 - val_acc: 0.9846\n",
      "Epoch 7/10\n",
      "60000/60000 [==============================] - 64s 1ms/sample - loss: 0.0472 - acc: 0.9856 - val_loss: 0.0446 - val_acc: 0.9860\n",
      "Epoch 8/10\n",
      "60000/60000 [==============================] - 67s 1ms/sample - loss: 0.0425 - acc: 0.9870 - val_loss: 0.0477 - val_acc: 0.9844\n",
      "Epoch 9/10\n",
      "60000/60000 [==============================] - 66s 1ms/sample - loss: 0.0384 - acc: 0.9884 - val_loss: 0.0445 - val_acc: 0.9846\n",
      "Epoch 10/10\n",
      "60000/60000 [==============================] - 67s 1ms/sample - loss: 0.0359 - acc: 0.9890 - val_loss: 0.0393 - val_acc: 0.9870\n"
     ]
    },
    {
     "data": {
      "text/plain": [
       "<tensorflow.python.keras.callbacks.History at 0x1ec022dcb00>"
      ]
     },
     "execution_count": 1,
     "metadata": {},
     "output_type": "execute_result"
    }
   ],
   "source": [
    "import tensorflow as tf\n",
    "import matplotlib.pyplot as plt\n",
    "%matplotlib inline\n",
    "\n",
    "nb_classes = 10\n",
    "input_shape = (28, 28, 1)\n",
    "\n",
    "(x_train, y_train), (x_test, y_test) = tf.keras.datasets.mnist.load_data()\n",
    "x_train = x_train.astype('float32')\n",
    "x_test = x_test.astype('float32')\n",
    "\n",
    "x_train = x_train.reshape((-1,) + input_shape)/255\n",
    "x_test = x_test.reshape((-1,) + input_shape)/255\n",
    "\n",
    "with tf.name_scope('model'):\n",
    "\n",
    "    model = tf.keras.models.Sequential([\n",
    "        tf.keras.layers.InputLayer(input_shape = input_shape, name='input'),\n",
    "        tf.keras.layers.Conv2D(filters=32, kernel_size=(5,5), name='conv_1'),\n",
    "        tf.keras.layers.MaxPool2D(strides=2, pool_size=(2,2), name='maxpool_1'),\n",
    "        tf.keras.layers.Conv2D(filters=64, kernel_size=5, activation=tf.nn.relu, name='conv_2'),\n",
    "        tf.keras.layers.MaxPool2D(strides=2, pool_size=(2, 2), name='maxpool_2'),\n",
    "        tf.keras.layers.Flatten(name='Flatten'),\n",
    "        tf.keras.layers.Dense(units=30, activation=tf.keras.activations.relu, name='dense_1'),\n",
    "        tf.keras.layers.Dense(units=nb_classes, activation=tf.keras.activations.linear, name='dense_2'),\n",
    "        tf.keras.layers.Activation(activation=tf.nn.softmax)\n",
    "        ]\n",
    "    )\n",
    "\n",
    "    model.compile(loss='sparse_categorical_crossentropy', optimizer='sgd', metrics=['accuracy'])\n",
    "\n",
    "tb_callbacks = tf.keras.callbacks.TensorBoard(log_dir = './logs2', histogram_freq=1, write_grads=True, write_images=True)\n",
    "\n",
    "model.fit(x_train, y_train, epochs=10, validation_data=(x_test, y_test), callbacks=[tb_callbacks])\n"
   ]
  },
  {
   "cell_type": "markdown",
   "metadata": {},
   "source": [
    "Teď můžete spustit tensorboard pomocí `tensorboard --logdir=logs2` a prohlédnout si informace o trénování."
   ]
  }
 ],
 "metadata": {
  "kernelspec": {
   "display_name": "Python 3",
   "language": "python",
   "name": "python3"
  },
  "language_info": {
   "codemirror_mode": {
    "name": "ipython",
    "version": 3
   },
   "file_extension": ".py",
   "mimetype": "text/x-python",
   "name": "python",
   "nbconvert_exporter": "python",
   "pygments_lexer": "ipython3",
   "version": "3.7.2"
  }
 },
 "nbformat": 4,
 "nbformat_minor": 2
}
