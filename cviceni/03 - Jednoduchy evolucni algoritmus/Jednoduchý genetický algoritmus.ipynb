{
 "cells": [
  {
   "cell_type": "markdown",
   "metadata": {},
   "source": [
    "V přednášce jsme si předvedli jednoduchý genetický algoritmus. Dnes si ho zkusíme naprogramovat a vyřešit si pomocí něj dva jednoduché problémy - OneMAX a součet podmnožiny.\n",
    "\n",
    "Nakonec si ještě ukážeme knihovnu `deap`, která se dá použít pro implementaci složitějších evolučních algoritmů.\n",
    "\n",
    "Implemenace algoritmu je velmi jednoduchá, začneme tím, že si napíšeme jeho kostru (skoro jako pseudokód)."
   ]
  },
  {
   "cell_type": "code",
   "execution_count": 1,
   "metadata": {},
   "outputs": [],
   "source": [
    "import numpy as np\n",
    "\n",
    "def evoluce(pop_size, ind_size, max_gen, fitness, cx_pb = 0.8, mut_pb=0.1, per_bit_pb = 0.2):\n",
    "    populace = nahodna_populace(pop_size, ind_size)\n",
    "    log = []\n",
    "    for i in range(max_gen):\n",
    "        fit = list(map(fitness, populace))\n",
    "        log.append(max(fit))\n",
    "        mating_pool = selekce(populace, fit, pop_size)\n",
    "        potomci = krizeni(mating_pool, cx_pb)\n",
    "        potomci = mutace(potomci, mut_pb, per_bit_pb)\n",
    "        populace = potomci[:] # shallow copy\n",
    "    \n",
    "    fit = list(map(fitness, populace))\n",
    "    best = populace[np.argmax(fit)]\n",
    "    return best, populace, log"
   ]
  },
  {
   "cell_type": "markdown",
   "metadata": {},
   "source": [
    "Teď potřebujeme napsat implementace funkcí použitých výše. Začneme inicializací náhodné populace - budeme uvažovat pouze jedince, kteří jsou seznamy 1 a 0."
   ]
  },
  {
   "cell_type": "code",
   "execution_count": 2,
   "metadata": {},
   "outputs": [
    {
     "data": {
      "text/plain": [
       "[[1, 0, 1, 1, 1, 1, 0, 0, 0, 1],\n",
       " [1, 1, 0, 0, 0, 1, 0, 1, 0, 0],\n",
       " [1, 0, 0, 0, 0, 1, 1, 0, 1, 0],\n",
       " [0, 0, 0, 0, 0, 0, 1, 1, 1, 1],\n",
       " [0, 0, 1, 1, 0, 1, 1, 1, 1, 1]]"
      ]
     },
     "execution_count": 2,
     "metadata": {},
     "output_type": "execute_result"
    }
   ],
   "source": [
    "import random\n",
    "\n",
    "def nahodna_populace(pop_size, ind_size):\n",
    "    pop = []\n",
    "    for _ in range(pop_size):\n",
    "        ind = [0 if random.random() < 0.5 else 1 for _ in range(ind_size)]\n",
    "        pop.append(ind)\n",
    "    \n",
    "    return pop\n",
    "\n",
    "nahodna_populace(5, 10)"
   ]
  },
  {
   "cell_type": "markdown",
   "metadata": {},
   "source": [
    "Dále si naprogramujeme ruletovou selekci - to je jednoduché, modul random obsahuje funkci choices, která dělá přesně to, co potřebujeme."
   ]
  },
  {
   "cell_type": "code",
   "execution_count": 3,
   "metadata": {},
   "outputs": [],
   "source": [
    "import copy\n",
    "\n",
    "def selekce(pop, fit, N):\n",
    "    return copy.deepcopy(random.choices(pop, weights=fit, k=N)) # musime udelat hlubokou kopii"
   ]
  },
  {
   "cell_type": "markdown",
   "metadata": {},
   "source": [
    "Teď uděláme ještě jednobodové křížení a mutaci, která změní náhodný bit. U obou operátorů čekáme, že dostaneme celou populaci."
   ]
  },
  {
   "cell_type": "code",
   "execution_count": 4,
   "metadata": {},
   "outputs": [
    {
     "name": "stdout",
     "output_type": "stream",
     "text": [
      "populace\n",
      "[[1, 0, 0, 0, 0, 1, 0, 1, 0, 0],\n",
      " [1, 1, 0, 1, 0, 1, 1, 1, 1, 0],\n",
      " [0, 0, 1, 0, 1, 1, 1, 0, 1, 0],\n",
      " [0, 0, 0, 0, 1, 1, 0, 1, 0, 1],\n",
      " [1, 1, 1, 0, 0, 1, 1, 0, 0, 0],\n",
      " [1, 0, 1, 0, 1, 1, 0, 0, 0, 1]]\n",
      "po krizeni\n",
      "[[1, 0, 0, 0, 0, 1, 0, 1, 0, 0],\n",
      " [1, 1, 0, 1, 0, 1, 1, 1, 1, 0],\n",
      " [0, 0, 0, 0, 1, 1, 0, 1, 0, 0],\n",
      " [0, 0, 1, 0, 1, 1, 1, 0, 1, 1],\n",
      " [1, 0, 1, 0, 1, 1, 0, 0, 0, 0],\n",
      " [1, 1, 1, 0, 0, 1, 1, 0, 0, 1]]\n",
      "po mutaci\n",
      "[[1, 0, 0, 0, 0, 1, 0, 1, 0, 0],\n",
      " [1, 1, 0, 1, 0, 1, 1, 1, 1, 0],\n",
      " [0, 0, 1, 0, 1, 1, 1, 0, 1, 0],\n",
      " [0, 0, 0, 0, 1, 1, 0, 1, 0, 1],\n",
      " [1, 1, 1, 0, 0, 1, 1, 0, 0, 0],\n",
      " [1, 0, 1, 0, 1, 1, 0, 0, 0, 1]]\n"
     ]
    }
   ],
   "source": [
    "def krizeni(pop, cx_pb = 0.8):\n",
    "    new_pop = []\n",
    "    for i in range(len(pop)//2):\n",
    "        \n",
    "        o1 = copy.deepcopy(pop[2*i])\n",
    "        o2 = copy.deepcopy(pop[2*i + 1])\n",
    "        \n",
    "        if random.random() < cx_pb: # pravdepodobnost krizeni\n",
    "            bod = random.randrange(0, len(o1))\n",
    "            zacateko2 = o2[:bod]\n",
    "            o2[:bod] = o1[:bod]\n",
    "            o1[:bod] = zacateko2[:]\n",
    "        \n",
    "        new_pop.append(o1)\n",
    "        new_pop.append(o2)\n",
    "    \n",
    "    return new_pop\n",
    "\n",
    "def mutace(pop, mut_pb = 0.1, per_bit_pb = 0.2):\n",
    "    new_pop = []\n",
    "    for ind in pop:\n",
    "        \n",
    "        o = copy.deepcopy(ind)\n",
    "        \n",
    "        if random.random() < mut_pb: # pravdepodobnost mutace\n",
    "            o = [1-x if random.random() < per_bit_pb else x for x in o] # pri mutaci zmenime bit na opacnou \n",
    "                                                                        # hodnotu s psti per_bit_pb\n",
    "        \n",
    "        new_pop.append(o)\n",
    "    \n",
    "    return new_pop\n",
    "\n",
    "import pprint\n",
    "pop = nahodna_populace(6, 10)\n",
    "print('populace')\n",
    "pprint.pprint(pop)\n",
    "print('po krizeni')\n",
    "pprint.pprint(krizeni(pop))\n",
    "print('po mutaci')\n",
    "pprint.pprint(mutace(pop))"
   ]
  },
  {
   "cell_type": "markdown",
   "metadata": {},
   "source": [
    "A tím vlastně máme algoritmus hotový. Chybí nám napsat už jen fitness funkci. Budeme chtít řešit OneMAX problém - fitness tedy bude počet 1 v jedinci."
   ]
  },
  {
   "cell_type": "code",
   "execution_count": 5,
   "metadata": {},
   "outputs": [
    {
     "name": "stdout",
     "output_type": "stream",
     "text": [
      "([1, 0, 1, 1, 0, 1, 0, 0, 0, 0], 4)\n",
      "([1, 1, 1, 0, 1, 0, 0, 1, 0, 0], 5)\n",
      "([0, 1, 0, 0, 0, 0, 1, 1, 1, 1], 5)\n",
      "([0, 1, 1, 1, 0, 0, 1, 0, 0, 1], 5)\n",
      "([0, 1, 0, 1, 1, 0, 1, 1, 0, 1], 6)\n",
      "([1, 1, 0, 0, 0, 0, 1, 1, 0, 1], 5)\n"
     ]
    }
   ],
   "source": [
    "def onemax(ind):\n",
    "    return sum(ind)\n",
    "\n",
    "pop = nahodna_populace(6, 10)\n",
    "fit = map(onemax, pop)\n",
    "for i,f in zip(pop, fit):\n",
    "    print((i, f))"
   ]
  },
  {
   "cell_type": "markdown",
   "metadata": {},
   "source": [
    "Pustíme si náš algortimus a podíváme se, jestli funguje."
   ]
  },
  {
   "cell_type": "code",
   "execution_count": 6,
   "metadata": {},
   "outputs": [],
   "source": [
    "best, pop, log = evoluce(pop_size = 100, ind_size = 50, max_gen = 50, fitness = onemax)"
   ]
  },
  {
   "cell_type": "code",
   "execution_count": 7,
   "metadata": {},
   "outputs": [
    {
     "name": "stdout",
     "output_type": "stream",
     "text": [
      "best fitness:  41\n",
      "best:  [1, 1, 1, 1, 1, 1, 1, 1, 0, 0, 1, 1, 1, 1, 1, 1, 0, 1, 1, 1, 1, 1, 1, 0, 1, 1, 0, 1, 0, 1, 0, 1, 1, 1, 1, 1, 0, 1, 1, 1, 1, 1, 1, 1, 0, 1, 1, 1, 1, 1]\n"
     ]
    },
    {
     "data": {
      "text/plain": [
       "Text(0.5, 0, 'Generace')"
      ]
     },
     "execution_count": 7,
     "metadata": {},
     "output_type": "execute_result"
    },
    {
     "data": {
      "image/png": "[encoded data removed]",
      "text/plain": [
       "<Figure size 432x288 with 1 Axes>"
      ]
     },
     "metadata": {
      "needs_background": "light"
     },
     "output_type": "display_data"
    }
   ],
   "source": [
    "print('best fitness: ', onemax(best))\n",
    "print('best: ', best)\n",
    "\n",
    "\n",
    "%matplotlib inline\n",
    "import matplotlib.pyplot as plt\n",
    "\n",
    "plt.plot(log)\n",
    "plt.ylabel('Fitness')\n",
    "plt.xlabel('Generace')"
   ]
  },
  {
   "cell_type": "markdown",
   "metadata": {},
   "source": [
    "## Úkol na cvičení\n",
    "\n",
    "Zkuste teď upravit algoritmus napsaný výše tak, aby řešil problém součtu podmnožiny, tj, nalezení takové podmnožiny, že její součet je přesně zadané číslo. V optimalizační verzi se tento problém snaží minimalizovat rozdíl mezi zadanou hodnotou a součtem podmnožiny.\n",
    "\n",
    "Vstup si můžete vygenerovat náhodně."
   ]
  },
  {
   "cell_type": "code",
   "execution_count": 8,
   "metadata": {},
   "outputs": [
    {
     "name": "stdout",
     "output_type": "stream",
     "text": [
      "6256 [127, 113, 132, 111, 130, 116, 102, 142, 138, 131, 125, 106, 109, 136, 107, 135, 122, 114, 110, 103, 144, 144, 134, 146, 114, 130, 136, 145, 117, 116, 120, 111, 142, 123, 122, 122, 137, 107, 118, 148, 102, 120, 129, 100, 149, 128, 139, 144, 112, 138, 149, 143, 101, 147, 116, 131, 129, 115, 112, 129, 107, 111, 131, 149, 136, 114, 127, 135, 137, 140, 125, 120, 144, 105, 104, 117, 127, 132, 113, 106, 144, 114, 116, 119, 142, 108, 138, 106, 109, 147, 149, 126, 146, 140, 101, 131, 126, 108, 103, 142]\n"
     ]
    }
   ],
   "source": [
    "mnozina = [random.randrange(0,50) + 100 for _ in range(100)] # 100 nahodnych cisel mezi 100 a 150\n",
    "cislo = sum(mnozina)//2\n",
    "print(cislo, mnozina)"
   ]
  },
  {
   "cell_type": "markdown",
   "metadata": {},
   "source": [
    "## Knihovna deap \n",
    "\n",
    "Viděli jsme, že napsat vlatní evoluční algoritmus je snadné. Přesto se hodí používat některé knihovny, které nám práci usnadní. Jednou z oblíbených je knihovna `deap`. Nebudu tu kopírovat její tutoriál - [ten samý problém jako výše je v něm ale vyřešen][1].\n",
    "\n",
    "  [1]: https://deap.readthedocs.io/en/master/examples/ga_onemax.html"
   ]
  }
 ],
 "metadata": {
  "kernelspec": {
   "display_name": "Python 3",
   "language": "python",
   "name": "python3"
  },
  "language_info": {
   "codemirror_mode": {
    "name": "ipython",
    "version": 3
   },
   "file_extension": ".py",
   "mimetype": "text/x-python",
   "name": "python",
   "nbconvert_exporter": "python",
   "pygments_lexer": "ipython3",
   "version": "3.7.2"
  }
 },
 "nbformat": 4,
 "nbformat_minor": 2
}
